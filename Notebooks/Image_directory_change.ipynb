{
  "cells": [
    {
      "cell_type": "code",
      "execution_count": null,
      "metadata": {
        "colab": {
          "base_uri": "https://localhost:8080/"
        },
        "id": "YU3zKpfYCCfS",
        "outputId": "02a27046-1c2c-4c97-f177-59898debc502"
      },
      "outputs": [
        {
          "output_type": "stream",
          "name": "stdout",
          "text": [
            "Mounted at /content/drive\n"
          ]
        }
      ],
      "source": [
        "# to be executed if data is loaded from Drive, else please ignore this\n",
        "from google.colab import drive\n",
        "drive.mount('/content/drive')"
      ]
    },
    {
      "cell_type": "code",
      "execution_count": null,
      "metadata": {
        "id": "nKJLHUweCQtn"
      },
      "outputs": [],
      "source": [
        "# import necessary libraries\n",
        "import os\n",
        "import shutil\n",
        "import numpy as np\n",
        "import pandas as pd\n",
        "import json\n",
        "import os"
      ]
    },
    {
      "cell_type": "code",
      "source": [
        "def classify_images(path):\n",
        "\n",
        "  with open(path) as json_data:\n",
        "      data = json.load(json_data)\n",
        "\n",
        "  image = [item for item in data.keys()]\n",
        "  label = [item for item in data.values()]\n",
        "  df = pd.DataFrame(list(zip(image, label)), columns = ['image', 'Label'])\n",
        "\n",
        "  f_images = [x+'.jpg' for x,y in zip(df.image, df.Label)  if y == 0]  # 0 is F/ 1 in NF\n",
        "  nf_images =  [x+'.jpg' for x,y in zip(df.image, df.Label)  if y == 1]\n",
        "\n",
        "  return f_images, nf_images"
      ],
      "metadata": {
        "id": "YwOLI1-vWwnI"
      },
      "execution_count": null,
      "outputs": []
    },
    {
      "cell_type": "code",
      "source": [
        "def change_directory(f_images, nf_images, input, output_fl, output_nfl):\n",
        "  \n",
        "  for item in f_images:\n",
        "    ip_file = input + item  \n",
        "    shutil.move(ip_file, output_fl) # from , to\n",
        "  \n",
        "  for item in nf_images:\n",
        "    ip_file = input + item  \n",
        "    shutil.move(ip_file, output_nfl)\n"
      ],
      "metadata": {
        "id": "uzCuWL7oK4gA"
      },
      "execution_count": null,
      "outputs": []
    },
    {
      "cell_type": "code",
      "source": [
        "path_train = '/content/drive/MyDrive/image_classes_train.json'\n",
        "path_val  = '/content/drive/MyDrive/image_classes_val.json'\n",
        "path_test = '/content/drive/MyDrive/image_classes_test.json'"
      ],
      "metadata": {
        "id": "sWEDBKTqT6k2"
      },
      "execution_count": null,
      "outputs": []
    },
    {
      "cell_type": "code",
      "source": [
        "f_images_tr, nf_images_tr = classify_images(path_train)\n",
        "f_images_val, nf_images_val = classify_images(path_val)\n",
        "f_images_test, nf_images_test = classify_images(path_test)"
      ],
      "metadata": {
        "id": "AjvJwFH3EnYL"
      },
      "execution_count": null,
      "outputs": []
    },
    {
      "cell_type": "markdown",
      "source": [
        "**PCA**"
      ],
      "metadata": {
        "id": "5nQSDc8ON37h"
      }
    },
    {
      "cell_type": "code",
      "source": [
        "#Test\n",
        "\n",
        "input = '/content/drive/MyDrive/Compressed_PCA_Images/Test/'\n",
        "output_fl = '/content/drive/MyDrive/Compressed_PCA_Images/Test/Flooded/'\n",
        "output_nfl = '/content/drive/MyDrive/Compressed_PCA_Images/Test/Non-Flooded/'\n",
        "\n",
        "change_directory(f_images_test, nf_images_test, input, output_fl, output_nfl)"
      ],
      "metadata": {
        "id": "r1hsHHmREroL"
      },
      "execution_count": null,
      "outputs": []
    },
    {
      "cell_type": "code",
      "source": [
        "#Train\n",
        "\n",
        "input = '/content/drive/MyDrive/Compressed_PCA_Images/Train/Unlabeled/'\n",
        "\n",
        "output_fl = '/content/drive/MyDrive/Compressed_PCA_Images/Train/Labeled/Flooded/'\n",
        "output_nfl = '/content/drive/MyDrive/Compressed_PCA_Images/Train/Labeled/Non-Flooded/'\n",
        "\n",
        "change_directory(f_images_tr, nf_images_tr, input, output_fl, output_nfl)"
      ],
      "metadata": {
        "id": "J7wNaIjaPvzY"
      },
      "execution_count": null,
      "outputs": []
    },
    {
      "cell_type": "markdown",
      "source": [
        "**AE**"
      ],
      "metadata": {
        "id": "TTtFO1cWSTfu"
      }
    },
    {
      "cell_type": "code",
      "source": [
        "#Test\n",
        "\n",
        "input = '/content/drive/MyDrive/Compressed_AE_images/Test/'\n",
        "output_fl = '/content/drive/MyDrive/Compressed_AE_images/Test/Flooded/'\n",
        "output_nfl = '/content/drive/MyDrive/Compressed_AE_images/Test/Non-Flooded/'\n",
        "\n",
        "change_directory(f_images_test, nf_images_test, input, output_fl, output_nfl)"
      ],
      "metadata": {
        "id": "zHpzkLaXSTfv"
      },
      "execution_count": null,
      "outputs": []
    },
    {
      "cell_type": "code",
      "source": [
        "#Train\n",
        "\n",
        "input = '/content/drive/MyDrive/Compressed_AE_images/Train/Unlabeled/'\n",
        "\n",
        "output_fl = '/content/drive/MyDrive/Compressed_AE_images/Train/Labeled/Flooded/'\n",
        "output_nfl = '/content/drive/MyDrive/Compressed_AE_images/Train/Labeled/Non-Flooded/'\n",
        "\n",
        "change_directory(f_images_tr, nf_images_tr, input, output_fl, output_nfl)"
      ],
      "metadata": {
        "id": "QB-WZcMySTfv"
      },
      "execution_count": null,
      "outputs": []
    },
    {
      "cell_type": "code",
      "source": [
        "#Val\n",
        "\n",
        "input = '/content/drive/MyDrive/Compressed_AE_images/Validation/'\n",
        "\n",
        "output_fl = '/content/drive/MyDrive/Compressed_AE_images/Validation/Flooded/'\n",
        "output_nfl = '/content/drive/MyDrive/Compressed_AE_images/Validation/Non-Flooded/'\n",
        "\n",
        "change_directory(f_images_val, nf_images_val, input, output_fl, output_nfl)"
      ],
      "metadata": {
        "id": "T-psYlDrSwdP"
      },
      "execution_count": null,
      "outputs": []
    },
    {
      "cell_type": "code",
      "source": [
        "input = '/content/drive/MyDrive/Compressed_AE_images/Validation/Non-Flooded/'\n",
        "output = '/content/drive/MyDrive/Compressed_AE_images/Train/Labeled/Non-Flooded/'\n",
        "\n",
        "for item in f_images_val:\n",
        "    ip_file = input + item  \n",
        "    shutil.move(ip_file, output)"
      ],
      "metadata": {
        "id": "1CfnUSqCq9Pd"
      },
      "execution_count": null,
      "outputs": []
    }
  ],
  "metadata": {
    "colab": {
      "collapsed_sections": [
        "j5H46QJIEGOb",
        "Kto49oXJfQtL",
        "Kha8oh85Dn5R"
      ],
      "name": "Image_directory_change.ipynb",
      "provenance": []
    },
    "kernelspec": {
      "display_name": "Python 3",
      "name": "python3"
    },
    "language_info": {
      "name": "python"
    },
    "gpuClass": "standard"
  },
  "nbformat": 4,
  "nbformat_minor": 0
}